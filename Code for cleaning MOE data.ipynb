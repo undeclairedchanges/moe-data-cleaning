{
 "cells": [
  {
   "cell_type": "markdown",
   "id": "c894e17e",
   "metadata": {},
   "source": [
    "This code cleans the messy list that MOE data comes in.\n",
    "\n",
    "- This automatically cleans the data\n",
    "    - No need for any manual cleaning like using Excel Pivots or Functions\n",
    "\n",
    "The raw data looks like this:\n",
    "\n",
    "<img src=\"raw data.png\" alt=\"raw data\" />\n",
    "\n",
    "But we need it like this:\n",
    "\n",
    "<img src=\"cleaned data.png\" alt=\"cleaned data\">\n",
    "\n",
    "\n",
    "- There is less room for user error when cleaning\n",
    "- Produces all possible subjects, not just Math or Science\n",
    "- Fast! Taking only a few minutes to compute each sheet"
   ]
  },
  {
   "cell_type": "markdown",
   "id": "c214ce07",
   "metadata": {},
   "source": [
    "**Things you need to do before running this code:**\n",
    "- Put this code in the **SAME FOLDER** as the MOE data. \n",
    "    - The MOE data should be in **EXCEL FILES**.\n",
    "- Identify number of irrelevant rows aka the 'Restricted/Sensitive' and 'LIST OF STUDENTS IN THE SINDA TUITION PROGRAMME, ... RESULTS\" at the top of excel\n",
    "- Identify max no. of subjects taken by one student\n",
    "\n"
   ]
  },
  {
   "cell_type": "code",
   "execution_count": null,
   "id": "5551a2bd",
   "metadata": {},
   "outputs": [],
   "source": [
    "#imports the required packages for this code to run\n",
    "import pandas as pd"
   ]
  },
  {
   "cell_type": "code",
   "execution_count": null,
   "id": "35b325f8",
   "metadata": {},
   "outputs": [],
   "source": [
    "#loads the csv: replace the \"...\" with the name of the target file\n",
    "\n",
    "df = pd.read_excel(\"...\")"
   ]
  },
  {
   "cell_type": "code",
   "execution_count": null,
   "id": "01338395",
   "metadata": {},
   "outputs": [],
   "source": [
    "#previews the first 10 rows\n",
    "#see if the first few rows are irrelevant\n",
    "#pls check the no. of rows to remove above and take the number on the leftmost column where you want it to start (e.g. 4)\n",
    "\n",
    "#if there are rows to remove, proceed to the next codeblock\n",
    "\n",
    "df.head(10)"
   ]
  },
  {
   "cell_type": "code",
   "execution_count": null,
   "id": "252d1ddd",
   "metadata": {},
   "outputs": [],
   "source": [
    "#removes the first nth rows that are irrelevant/blank (MOE's title rows)\n",
    "df = df.iloc[4:]"
   ]
  },
  {
   "cell_type": "code",
   "execution_count": null,
   "id": "1a9f346c",
   "metadata": {},
   "outputs": [],
   "source": [
    "new_header = df.iloc[0] #grab the first row and makes it the header\n",
    "df = df[1:] #take the data less the header row\n",
    "df.columns = new_header #set the header row as the df header"
   ]
  },
  {
   "cell_type": "code",
   "execution_count": null,
   "id": "4ad2816a",
   "metadata": {},
   "outputs": [],
   "source": [
    "#check the headers and data is correct\n",
    "\n",
    "df"
   ]
  },
  {
   "cell_type": "code",
   "execution_count": null,
   "id": "25738879",
   "metadata": {},
   "outputs": [],
   "source": [
    "#shows the current column names\n",
    "df.columns"
   ]
  },
  {
   "cell_type": "code",
   "execution_count": null,
   "id": "5d494689",
   "metadata": {},
   "outputs": [],
   "source": [
    "#helper function for renaming the columns\n",
    "\n",
    "def columns(max):\n",
    "    print(f\"df.columns = ['S/N', 'Ident No.', 'Name',\")\n",
    "    for i in range(1, max):\n",
    "        print(f\"                'Subject{i}', 'Grade{i}',\")\n",
    "    print(f\"                'Subject{max}', 'Grade{max}']\")"
   ]
  },
  {
   "cell_type": "code",
   "execution_count": null,
   "id": "3a8a6dd5",
   "metadata": {},
   "outputs": [],
   "source": [
    "#replace the ... with the max no. of subjects\n",
    "\n",
    "columns(...)"
   ]
  },
  {
   "cell_type": "code",
   "execution_count": null,
   "id": "af2a8a83",
   "metadata": {},
   "outputs": [],
   "source": [
    "#renames the columns so each subject-grade is easier to distinguish\n",
    "df.columns = ['S/N', 'Ident No.', 'Name',\n",
    "                'Subject1', 'Grade1',\n",
    "                'Subject2', 'Grade2',\n",
    "                'Subject3', 'Grade3',\n",
    "                'Subject4', 'Grade4',\n",
    "                'Subject5', 'Grade5',\n",
    "                'Subject6', 'Grade6',\n",
    "                'Subject7', 'Grade7',\n",
    "                'Subject8', 'Grade8',\n",
    "                'Subject9', 'Grade9',\n",
    "                'Subject10', 'Grade10',\n",
    "                'Subject11', 'Grade11',\n",
    "                'Subject12', 'Grade12',\n",
    "                'Subject13', 'Grade13']"
   ]
  },
  {
   "cell_type": "code",
   "execution_count": null,
   "id": "2c79deb5",
   "metadata": {},
   "outputs": [],
   "source": [
    "df"
   ]
  },
  {
   "cell_type": "code",
   "execution_count": null,
   "id": "986b602b",
   "metadata": {},
   "outputs": [],
   "source": [
    "#due to the removal of first few rows, the index needs to be reset\n",
    "df.reset_index(inplace=True)\n",
    "df = df.drop('index', axis=1)"
   ]
  },
  {
   "cell_type": "code",
   "execution_count": null,
   "id": "52db2bcb",
   "metadata": {},
   "outputs": [],
   "source": [
    "#helper function for the next codeblock\n",
    "\n",
    "def create_df(max):\n",
    "    for i in range(1,max+1):\n",
    "        print(f\"df{i} = df[['S/N','Ident No.','Name','Subject{i}', 'Grade{i}']]\")"
   ]
  },
  {
   "cell_type": "code",
   "execution_count": null,
   "id": "027cfd96",
   "metadata": {},
   "outputs": [],
   "source": [
    "#replace the ... with the max no. of subjects\n",
    "#then copy and paste the results in the next codeblock\n",
    "\n",
    "create_df(../)"
   ]
  },
  {
   "cell_type": "code",
   "execution_count": null,
   "id": "41a36de3",
   "metadata": {},
   "outputs": [],
   "source": [
    "#creates a temporary df in computers memory for each subject-grade for the max no. of subjects\n",
    "#max no. = 8 subjects\n",
    "#edit the code accordingly aka delete or add no. of subjects according to the max no. of subjects\n",
    "\n",
    "\n",
    "df1 = df[['S/N','Ident No.','Name','Subject1', 'Grade1']]\n",
    "df2 = df[['S/N','Ident No.','Name','Subject2', 'Grade2']]\n",
    "df3 = df[['S/N','Ident No.','Name','Subject3', 'Grade3']]\n",
    "df4 = df[['S/N','Ident No.','Name','Subject4', 'Grade4']]\n",
    "df5 = df[['S/N','Ident No.','Name','Subject5', 'Grade5']]\n",
    "df6 = df[['S/N','Ident No.','Name','Subject6', 'Grade6']]\n",
    "df7 = df[['S/N','Ident No.','Name','Subject7', 'Grade7']]\n",
    "df8 = df[['S/N','Ident No.','Name','Subject8', 'Grade8']]\n",
    "df9 = df[['S/N','Ident No.','Name','Subject9', 'Grade9']]\n",
    "df10 = df[['S/N','Ident No.','Name','Subject10', 'Grade10']]\n",
    "df11 = df[['S/N','Ident No.','Name','Subject11', 'Grade11']]\n",
    "df12 = df[['S/N','Ident No.','Name','Subject12', 'Grade12']]\n",
    "df13 = df[['S/N','Ident No.','Name','Subject13', 'Grade13']]\n",
    "\n"
   ]
  },
  {
   "cell_type": "code",
   "execution_count": null,
   "id": "c3d5b9e2",
   "metadata": {},
   "outputs": [],
   "source": [
    "#helper function for the next codeblock\n",
    "\n",
    "def dropna(max):\n",
    "    for i in range(1,max+1):\n",
    "        print(f\"df{i} = df{i}.dropna()\")"
   ]
  },
  {
   "cell_type": "code",
   "execution_count": null,
   "id": "db68362a",
   "metadata": {},
   "outputs": [],
   "source": [
    "#replace the ... with the max no. of subjects\n",
    "#then copy and paste the results in the next codeblock\n",
    "\n",
    "dropna(10)"
   ]
  },
  {
   "cell_type": "code",
   "execution_count": null,
   "id": "15cc5f3d",
   "metadata": {},
   "outputs": [],
   "source": [
    "#drops the NaN values from each subject-grade\n",
    "#copy and paste the result from the previous line into this block\n",
    "\n",
    "df1 = df1.dropna()\n",
    "df2 = df2.dropna()\n",
    "df3 = df3.dropna()\n",
    "df4 = df4.dropna()\n",
    "df5 = df5.dropna()\n",
    "df6 = df6.dropna()\n",
    "df7 = df7.dropna()\n",
    "df8 = df8.dropna()\n",
    "df9 = df9.dropna()\n",
    "df10 = df10.dropna()\n"
   ]
  },
  {
   "cell_type": "code",
   "execution_count": null,
   "id": "71057e82",
   "metadata": {},
   "outputs": [],
   "source": [
    "#create a function to change all the column names to the same to facilitate concatenation later\n",
    "def column_names(d):\n",
    "    d.columns = ['S/N','Ident No.','Name','Subject', 'Grade']\n",
    "    return d"
   ]
  },
  {
   "cell_type": "code",
   "execution_count": null,
   "id": "3db47627",
   "metadata": {},
   "outputs": [],
   "source": [
    "#helper function for the next codeblock\n",
    "\n",
    "def col_names(max):\n",
    "    for i in range(1, max+1):\n",
    "        print(f\"column_names(df{i})\")"
   ]
  },
  {
   "cell_type": "code",
   "execution_count": null,
   "id": "b57d9661",
   "metadata": {},
   "outputs": [],
   "source": [
    "#replace the ... with the max no. of subjects\n",
    "#then copy and paste the results in the next codeblock\n",
    "\n",
    "col_names(...)"
   ]
  },
  {
   "cell_type": "code",
   "execution_count": null,
   "id": "6c8f179d",
   "metadata": {},
   "outputs": [],
   "source": [
    "#run the function for all the dfs\n",
    "#copy and paste the text below with the result from the previous line into this block\n",
    "column_names(df1)\n",
    "column_names(df2)\n",
    "column_names(df3)\n",
    "column_names(df4)\n",
    "column_names(df5)\n",
    "column_names(df6)\n",
    "column_names(df7)\n",
    "column_names(df8)\n",
    "column_names(df9)\n",
    "column_names(df10)"
   ]
  },
  {
   "cell_type": "code",
   "execution_count": null,
   "id": "61de25fe",
   "metadata": {},
   "outputs": [],
   "source": [
    "#helper function for listing all the subject-grade pairs\n",
    "def list(max):\n",
    "    print(\"df_merged = pd.concat(\")\n",
    "    for i in range(1, max):\n",
    "        print(f\"            [df{i},\")\n",
    "    print(f\"            df{max}],\")\n",
    "    print(\"             axis=0, join='outer', names=['S/N','Ident No.','Name','Subjects', 'Grades'])\")"
   ]
  },
  {
   "cell_type": "code",
   "execution_count": null,
   "id": "1ee4c759",
   "metadata": {},
   "outputs": [],
   "source": [
    "#replace the ... with the max no. of subjects\n",
    "#then copy and paste the results in the next codeblock\n",
    "\n",
    "list(10)"
   ]
  },
  {
   "cell_type": "code",
   "execution_count": null,
   "id": "5dc5feea",
   "metadata": {},
   "outputs": [],
   "source": [
    "#appends all the dfs to the bottom of each other\n",
    "#now we have one row for each student and for each and every of their subject taken and grades\n",
    "\n",
    "df_merged = pd.concat([df1,df2,df3,df4,df5,df6,df7,df8,df9,df10,df11,df12,df13],\n",
    "                      axis=0, join='outer', names=['S/N','Ident No.','Name','Subjects', 'Grades'])"
   ]
  },
  {
   "cell_type": "code",
   "execution_count": null,
   "id": "2402bae3",
   "metadata": {},
   "outputs": [],
   "source": [
    "df_merged"
   ]
  },
  {
   "cell_type": "code",
   "execution_count": null,
   "id": "0d7a72bc",
   "metadata": {},
   "outputs": [],
   "source": [
    "#pivots the table so each subject is listed, tied to each student and with the grade as each datapoint!!!\n",
    "sorted_df = df_merged.pivot_table(\"Grade\", ['S/N', 'Ident No.',\"Name\"], \n",
    "                      \"Subject\", aggfunc=\"first\").reset_index().rename_axis(columns=None)\n"
   ]
  },
  {
   "cell_type": "code",
   "execution_count": null,
   "id": "640ced52",
   "metadata": {},
   "outputs": [],
   "source": [
    "#replace the ... with the desired name of the exported file\n",
    "#saves the cleaned data to an excel :)\n",
    "sorted_df.to_excel('...')"
   ]
  }
 ],
 "metadata": {
  "kernelspec": {
   "display_name": "Python 3 (ipykernel)",
   "language": "python",
   "name": "python3"
  },
  "language_info": {
   "codemirror_mode": {
    "name": "ipython",
    "version": 3
   },
   "file_extension": ".py",
   "mimetype": "text/x-python",
   "name": "python",
   "nbconvert_exporter": "python",
   "pygments_lexer": "ipython3",
   "version": "3.11.8"
  }
 },
 "nbformat": 4,
 "nbformat_minor": 5
}

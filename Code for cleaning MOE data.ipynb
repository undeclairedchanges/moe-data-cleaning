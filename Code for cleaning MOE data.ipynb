{
 "cells": [
  {
   "cell_type": "markdown",
   "id": "c894e17e",
   "metadata": {},
   "source": [
    "This code cleans the messy list that MOE data comes in.\n",
    "\n",
    "- This automatically cleans the data\n",
    "    - No need for any manual cleaning like using Excel Pivots or Functions\n",
    "- There is less room for user error when cleaning\n",
    "- Fast! Taking less than one minute to compute\n",
    "\n",
    "The raw data looks like this:\n",
    "\n",
    "<img src=\"raw data.png\" alt=\"raw data\" />\n",
    "\n",
    "But we need it like this:\n",
    "\n",
    "<img src=\"cleaned data.png\" alt=\"cleaned data\">\n"
   ]
  },
  {
   "cell_type": "markdown",
   "id": "c214ce07",
   "metadata": {},
   "source": [
    "Things you need to do before running this code:\n",
    "- Put this code in the **SAME FOLDER** as the MOE data. \n",
    "    - The MOE data should be **EXCEL FILES**.\n",
    "- Identify number of irrelevant rows aka the 'Restricted/Sensitive' and 'LIST OF STUDENTS IN THE SINDA TUITION PROGRAMME, ... RESULTS\" at the top of excel\n",
    "- Identify max no. of subjects taken by one student\n",
    "\n"
   ]
  },
  {
   "cell_type": "code",
   "execution_count": null,
   "id": "5551a2bd",
   "metadata": {},
   "outputs": [],
   "source": [
    "#imports the required packages for this code to run\n",
    "import pandas as pd\n",
    "import numpy as np"
   ]
  },
  {
   "cell_type": "code",
   "execution_count": null,
   "id": "35b325f8",
   "metadata": {},
   "outputs": [],
   "source": [
    "#loads the csv: replace the \"...\" with the name of the target file\n",
    "\n",
    "df = pd.read_excel(\"2021 SINDA NA Levels.xlsx\")"
   ]
  },
  {
   "cell_type": "code",
   "execution_count": null,
   "id": "01338395",
   "metadata": {},
   "outputs": [],
   "source": [
    "df.head(10) #previews the first 10 rows, if the first few rows are irrelevant, continue to next code to remove it"
   ]
  },
  {
   "cell_type": "code",
   "execution_count": null,
   "id": "252d1ddd",
   "metadata": {},
   "outputs": [],
   "source": [
    "#removes the first nth rows that are irrelevant/blank (MOE's title rows)\n",
    "#pls check the no. of rows to remove above and take the number on the leftmost column where you want it to start\n",
    "#in this case, i want it to start at the index 5.\n",
    "\n",
    "df = df.iloc[5:]"
   ]
  },
  {
   "cell_type": "code",
   "execution_count": null,
   "id": "1a9f346c",
   "metadata": {},
   "outputs": [],
   "source": [
    "new_header = df.iloc[0] #grab the first row and makes it the header\n",
    "df = df[1:] #take the data less the header row\n",
    "df.columns = new_header #set the header row as the df header"
   ]
  },
  {
   "cell_type": "code",
   "execution_count": null,
   "id": "4ad2816a",
   "metadata": {},
   "outputs": [],
   "source": [
    "df"
   ]
  },
  {
   "cell_type": "code",
   "execution_count": null,
   "id": "af2a8a83",
   "metadata": {},
   "outputs": [],
   "source": [
    "#max no. = 8 subjects\n",
    "#edit the code accordingly aka delete or add no. of subjects according to the max no. of subjects\n",
    "\n",
    "#renames the columns so each subject-grade is easier to distinguish\n",
    "df.columns = ['S/N', 'Ident No.', 'Name', 'Subject1', 'Grade1', 'Subject2', 'Grade2',\n",
    "       'Subject3', 'Grade3', 'Subject4', 'Grade4', 'Subject5', 'Grade5', 'Subject6',\n",
    "       'Grade6', 'Subject7', 'Grade7', 'Subject8', 'Grade8', 'Eligibility'] "
   ]
  },
  {
   "cell_type": "code",
   "execution_count": null,
   "id": "2c79deb5",
   "metadata": {},
   "outputs": [],
   "source": [
    "df"
   ]
  },
  {
   "cell_type": "code",
   "execution_count": null,
   "id": "986b602b",
   "metadata": {},
   "outputs": [],
   "source": [
    "#due to the removal of first few rows, the index needs to be reset\n",
    "df.reset_index(inplace=True)\n",
    "df = df.drop('index', axis=1)"
   ]
  },
  {
   "cell_type": "code",
   "execution_count": null,
   "id": "41a36de3",
   "metadata": {},
   "outputs": [],
   "source": [
    "#creates a temporary df in computers memory for each subject-grade for the max no. of subjects\n",
    "#max no. = 8 subjects\n",
    "#edit the code accordingly aka delete or add no. of subjects according to the max no. of subjects\n",
    "\n",
    "df1 = df[['S/N','Ident No.','Name','Subject1', 'Grade1']]\n",
    "df2 = df[['S/N','Ident No.','Name','Subject2', 'Grade2']]\n",
    "df3 = df[['S/N','Ident No.','Name','Subject3', 'Grade3']]\n",
    "df4 = df[['S/N','Ident No.','Name','Subject4', 'Grade4']]\n",
    "df5 = df[['S/N','Ident No.','Name','Subject5', 'Grade5']]\n",
    "df6 = df[['S/N','Ident No.','Name','Subject6', 'Grade6']]\n",
    "df7 = df[['S/N','Ident No.','Name','Subject7', 'Grade7']]\n",
    "df8 = df[['S/N','Ident No.','Name','Subject8', 'Grade8']]"
   ]
  },
  {
   "cell_type": "code",
   "execution_count": null,
   "id": "15cc5f3d",
   "metadata": {},
   "outputs": [],
   "source": [
    "#drops the NaN values from each subject-grade\n",
    "#again, edit the code accordingly aka delete or add no. of subjects according to the max no. of subjects\n",
    "\n",
    "df1 = df1.dropna()\n",
    "df2 = df2.dropna()\n",
    "df3 = df3.dropna()\n",
    "df4 = df4.dropna()\n",
    "df5 = df5.dropna()\n",
    "df6 = df6.dropna()\n",
    "df7 = df7.dropna()\n",
    "df8 = df8.dropna()\n"
   ]
  },
  {
   "cell_type": "code",
   "execution_count": null,
   "id": "71057e82",
   "metadata": {},
   "outputs": [],
   "source": [
    "#create a function to change all the column names to be common to facilitate concatenation later\n",
    "def column_names(d):\n",
    "    d.columns = ['S/N','Ident No.','Name','Subject', 'Grade']\n",
    "    return d"
   ]
  },
  {
   "cell_type": "code",
   "execution_count": null,
   "id": "6c8f179d",
   "metadata": {},
   "outputs": [],
   "source": [
    "#run the function for all the dfs\n",
    "column_names(df1)\n",
    "column_names(df2)\n",
    "column_names(df3)\n",
    "column_names(df4)\n",
    "column_names(df5)\n",
    "column_names(df6)\n",
    "column_names(df7)\n",
    "column_names(df8)\n"
   ]
  },
  {
   "cell_type": "code",
   "execution_count": null,
   "id": "5dc5feea",
   "metadata": {},
   "outputs": [],
   "source": [
    "#appends all the dfs to the bottom of each other\n",
    "#now we have one row for each student and for each and every of their subject taken and grades\n",
    "\n",
    "df_merged = pd.concat([df1,df2,df3,df4,df5,df6,df7,df8],axis=0, join='outer', names=['S/N','Ident No.','Name','Subjects', 'Grades'])"
   ]
  },
  {
   "cell_type": "code",
   "execution_count": null,
   "id": "2402bae3",
   "metadata": {},
   "outputs": [],
   "source": [
    "df_merged"
   ]
  },
  {
   "cell_type": "code",
   "execution_count": null,
   "id": "943bba33",
   "metadata": {},
   "outputs": [],
   "source": [
    "#this tells us all the possible subjects taken by this cohort of students\n",
    "#this is the number of columns we can expect in the cleaned file\n",
    "df_merged['Subject'].unique()"
   ]
  },
  {
   "cell_type": "code",
   "execution_count": null,
   "id": "0d7a72bc",
   "metadata": {},
   "outputs": [],
   "source": [
    "#pivots the table so each subject is listed, tied to each student and with the grade as each datapoint!!!\n",
    "sorted_df = df_merged.pivot_table(\"Grade\", ['S/N', 'Ident No.',\"Name\"], \n",
    "                      \"Subject\", aggfunc=\"first\").reset_index().rename_axis(columns=None)\n"
   ]
  },
  {
   "cell_type": "code",
   "execution_count": null,
   "id": "640ced52",
   "metadata": {},
   "outputs": [],
   "source": [
    "#saves the cleaned data to an excel :)\n",
    "sorted_df.to_excel('cleaned_2021 SINDA NA Levels.xlsx')"
   ]
  }
 ],
 "metadata": {
  "kernelspec": {
   "display_name": "Python 3 (ipykernel)",
   "language": "python",
   "name": "python3"
  },
  "language_info": {
   "codemirror_mode": {
    "name": "ipython",
    "version": 3
   },
   "file_extension": ".py",
   "mimetype": "text/x-python",
   "name": "python",
   "nbconvert_exporter": "python",
   "pygments_lexer": "ipython3",
   "version": "3.11.8"
  }
 },
 "nbformat": 4,
 "nbformat_minor": 5
}
